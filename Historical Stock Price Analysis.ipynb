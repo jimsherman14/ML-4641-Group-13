{
 "cells": [
  {
   "cell_type": "code",
   "execution_count": 79,
   "metadata": {
    "scrolled": true
   },
   "outputs": [],
   "source": [
    "import pandas as pd\n",
    "stock_df=pd.read_csv(\"stock_output.csv\")\n",
    "original_cols=len(stock_df.columns)\n",
    "#print(len(stock_df.columns))\n",
    "#stock_df.iloc[:,1]\n",
    "#stock_df\n",
    "#col_name=stock_df.columns[1]\n",
    "#str(col_name+\"_10day_MA\")"
   ]
  },
  {
   "cell_type": "code",
   "execution_count": 80,
   "metadata": {},
   "outputs": [],
   "source": [
    "for i in range(1,original_cols):\n",
    "    #ten_day_MA_list=[]\n",
    "    #fifty_day_MA_list=[]\n",
    "    #two_hundred_day_MA_list=[]\n",
    "    \n",
    "    #10 day MA\n",
    "    ten_day_MA_list=stock_df.iloc[:,i].rolling(10).mean()\n",
    "    #50 day MA\n",
    "    fifty_day_MA_list=stock_df.iloc[:,i].rolling(50).mean()\n",
    "    #200 day MA\n",
    "    two_hundred_day_MA_list=stock_df.iloc[:,i].rolling(200).mean()\n",
    "    \n",
    "    \n",
    "    col_name=stock_df.columns[i]\n",
    "    #print(ten_day_MA_list)\n",
    "    #print(len(ten_day_MA_list))\n",
    "    #print(len(stock_df))\n",
    "    stock_df.insert(len(stock_df.columns), str(col_name+\"_10day_MA\"), ten_day_MA_list)\n",
    "    stock_df.insert(len(stock_df.columns), str(col_name+\"_50day_MA\"), fifty_day_MA_list)\n",
    "    stock_df.insert(len(stock_df.columns), str(col_name+\"_200day_MA\"), two_hundred_day_MA_list)\n",
    "    \n",
    "stock_df\n",
    "\n",
    "#5 days\n",
    "wk_moving_returns=[]\n",
    "#20 days\n",
    "month_moving_returns=[]\n",
    "#260 days\n",
    "year_moving_returns=[]\n",
    "\n",
    "#len(stock_df.iloc[:,i])\n",
    "#print(stock_df.iloc[0])\n",
    "\n",
    "#i=5\n",
    "#j=4\n",
    "#print(stock_df.iloc[j,i-4])"
   ]
  },
  {
   "cell_type": "code",
   "execution_count": 81,
   "metadata": {},
   "outputs": [
    {
     "name": "stdout",
     "output_type": "stream",
     "text": [
      "VOO\n",
      "MRO\n",
      "HD\n",
      "PTC\n",
      "PKG\n",
      "WHR\n",
      "YUM\n",
      "GIS\n",
      "PPG\n",
      "SYY\n",
      "BIIB\n",
      "DIS\n",
      "JNJ\n",
      "NVDA\n",
      "GOOGL\n",
      "AMZN\n",
      "AAPL\n",
      "MSFT\n"
     ]
    }
   ],
   "source": [
    "for i in range(1,original_cols):\n",
    "    nrows=len(stock_df.iloc[:,i])\n",
    "    \n",
    "    wk_moving_return=[]\n",
    "    #20 days\n",
    "    month_moving_return=[]\n",
    "    #260 days\n",
    "    year_moving_return=[]\n",
    "    \n",
    "    #5 day moving return\n",
    "    for j in range(4,nrows):\n",
    "        #print(stock_df.iloc[j,i])\n",
    "        #print(stock_df.iloc[j-4,i])\n",
    "        wk_ret=(stock_df.iloc[j,i]-stock_df.iloc[j-4,i])/stock_df.iloc[j-4,i]\n",
    "        wk_moving_return.append(wk_ret)\n",
    "    #20 day moving return\n",
    "    for j in range(19, nrows):\n",
    "        month_ret=(stock_df.iloc[j,i]-stock_df.iloc[j-19,i])/stock_df.iloc[j-19,i]\n",
    "        month_moving_return.append(month_ret)\n",
    "    #260 day moving return\n",
    "    for j in range(259, nrows):\n",
    "        year_ret=(stock_df.iloc[j,i]-stock_df.iloc[j-259,i])/stock_df.iloc[j-259,i]\n",
    "        year_moving_return.append(year_ret)\n",
    "    \n",
    "    col_name=stock_df.columns[i]\n",
    "    #print(col_name)\n",
    "    wk_nan_list=[]\n",
    "    for no in range(4):\n",
    "        wk_nan_list.append(float(\"Nan\"))\n",
    "    \n",
    "    month_nan_list=[]\n",
    "    for no in range(19):\n",
    "        month_nan_list.append(float(\"Nan\"))\n",
    "    \n",
    "    yr_nan_list=[]\n",
    "    for no in range(259):\n",
    "        yr_nan_list.append(float(\"Nan\"))\n",
    "    \n",
    "    \n",
    "    wk_moving_return[0:0]=wk_nan_list\n",
    "    month_moving_return[0:0]=month_nan_list\n",
    "    year_moving_return[0:0]=yr_nan_list\n",
    "    \n",
    "    #print(len(wk_moving_return))\n",
    "    #print(len(stock_df))\n",
    "    \n",
    "    stock_df.insert(len(stock_df.columns), str(col_name+\"_5day_mvg_return\"), wk_moving_return)\n",
    "    stock_df.insert(len(stock_df.columns), str(col_name+\"_20day_mvg_return\"), month_moving_return)\n",
    "    stock_df.insert(len(stock_df.columns), str(col_name+\"_260day_mvg_return\"), year_moving_return)\n",
    "    #wk_moving_returns.append(wk_moving_return)\n",
    "    #month_moving_returns.append(month_moving_return)\n",
    "    #year_moving_returns.append(year_moving_return)\n",
    "#fifty_day_MA_list[1].iloc[50:]\n",
    "\n",
    "#wk_moving_return"
   ]
  },
  {
   "cell_type": "code",
   "execution_count": 84,
   "metadata": {},
   "outputs": [],
   "source": [
    "stock_df\n",
    "stock_df.to_csv(\"moving_average_plus_returns.csv\")\n",
    "#stock_df.drop(columns=['VOO_5day_mvg_return','VOO_20day_mvg_return','VOO_260day_mvg_return'])"
   ]
  }
 ],
 "metadata": {
  "kernelspec": {
   "display_name": "Python 3",
   "language": "python",
   "name": "python3"
  },
  "language_info": {
   "codemirror_mode": {
    "name": "ipython",
    "version": 3
   },
   "file_extension": ".py",
   "mimetype": "text/x-python",
   "name": "python",
   "nbconvert_exporter": "python",
   "pygments_lexer": "ipython3",
   "version": "3.7.1"
  }
 },
 "nbformat": 4,
 "nbformat_minor": 2
}
